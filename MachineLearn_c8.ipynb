{
 "cells": [
  {
   "cell_type": "code",
   "execution_count": 1,
   "metadata": {
    "collapsed": false
   },
   "outputs": [
    {
     "name": "stdout",
     "output_type": "stream",
     "text": [
      "(file:/tool/hadoop_practice/data/lfw/Alexander_Rumyantsev/Alexander_Rumyantsev_0002.jpg,����\u0000\u0010JFIF\u0000\u0001\u0001\u0000\u0000\u0001\u0000\u0001\u0000\u0000��\u0000C\u0000\u0003\u0002\u0002\u0003\u0002\u0002\u0003\u0003\u0003\u0003\u0004\u0003\u0003\u0004\u0005\b\u0005\u0005\u0004\u0004\u0005\n",
      "\u0007\u0007\u0006\b\f",
      "\n",
      "\f",
      "\f",
      "\u000b",
      "\n",
      "\u000b",
      "\u000b",
      "\r",
      "\u000e\u0012\u0010\r",
      "\u000e\u0011\u000e\u000b",
      "\u000b",
      "\u0010\u0016\u0010\u0011\u0013\u0014\u0015\u0015\u0015\f",
      "\u000f\u0017\u0018\u0016\u0014\u0018\u0012\u0014\u0015\u0014��\u0000C\u0001\u0003\u0004\u0004\u0005\u0004\u0005\t\u0005\u0005\t\u0014\r",
      "\u000b",
      "\r",
      "\u0014\u0014\u0014\u0014\u0014\u0014\u0014\u0014\u0014\u0014\u0014\u0014\u0014\u0014\u0014\u0014\u0014\u0014\u0014\u0014\u0014\u0014\u0014\u0014\u0014\u0014\u0014\u0014\u0014\u0014\u0014\u0014\u0014\u0014\u0014\u0014\u0014\u0014\u0014\u0014\u0014\u0014\u0014\u0014\u0014\u0014\u0014\u0014\u0014\u0014��\u0000\u0011\b\u0000�\u0000�\u0003\u0001\"\u0000\u0002\u0011\u0001\u0003\u0011\u0001��\u0000\u001f\u0000\u0000\u0001\u0005\u0001\u0001\u0001\u0001\u0001\u0001\u0000\u0000\u0000\u0000\u0000\u0000\u0000\u0000\u0001\u0002\u0003\u0004\u0005\u0006\u0007\b\t\n",
      "\u000b",
      "��\u0000�\u0010\u0000\u0002\u0001\u0003\u0003\u0002\u0004\u0003\u0005\u0005\u0004\u0004\u0000\u0000\u0001}\u0001\u0002\u0003\u0000\u0004\u0011\u0005\u0012!1A\u0006\u0013Qa\u0007\"q\u00142���\b#B��\u0015R��$3br�\t\n",
      "\u0016\u0017\u0018\u0019\u001a%&'()*456789:CDEFGHIJSTUVWXYZcdefghijstuvwxyz���������������������������������������������������������������������������\u0000\u001f\u0001\u0000\u0003\u0001\u0001\u0001\u0001\u0001\u0001\u0001\u0001\u0001\u0000\u0000\u0000\u0000\u0000\u0000\u0001\u0002\u0003\u0004\u0005\u0006\u0007\b\t\n",
      "\u000b",
      "��\u0000�\u0011\u0000\u0002\u0001\u0002\u0004\u0004\u0003\u0004\u0007\u0005\u0004\u0004\u0000\u0001\u0002w\u0000\u0001\u0002\u0003\u0011\u0004\u0005!1\u0006\u0012AQ\u0007aq\u0013\"2�\b\u0014B����\t#3R�\u0015br�\n",
      "\u0016$4�%�\u0017\u0018\u0019\u001a&'()*56789:CDEFGHIJSTUVWXYZcdefghijstuvwxyz��������������������������������������������������������������������������\u0000\f",
      "\u0003\u0001\u0000\u0002\u0011\u0003\u0011\u0000?\u0000�\u0015�*\u0006<T�P����\f",
      "�҅Ħ\u0010[�p\u0012u t9x<���Q8��˾%3dI��U8-� �|K�û�7'Սs�FZa[�(�\\��\u0000x�+�YFkۣ���\u0015y\u001bVj\u0016\u0000MV�\f",
      "�\u0002�F2B\n",
      "�\u0003\u0015\u0001\u0018<��j}\u0004v\u0006�\"��\u001ast��=�Z-\u0016��\u0016���\u001c",
      "�#�C\u0002\u0010sVY�^j\u000b",
      "\"�0N*S\"[��$�S\u0012@�4���r(\u0013W)J�c�:R\f",
      "\n",
      "GS\u001b`��*�H�T0G�֧��a�:�\u000e\b5=�<�Ұ�X�%d�z�\u0015\u000e6��GP��B\u0018 ��E�ն%�\u0010!#��2Hd95w>r\u001a�0���aj\n",
      "�\u0014�v\u001d",
      "��#\u001c",
      "piX\u0012:U�Z��$����\u0014�D�UxT�<S�s\u0012��\f",
      "\u001aEMA@\u0007\u0015��j�ӗST�y�QZO�\u001e",
      "V!�Y��#���\u0014�\u0007�[ߵ�U�d\f",
      "���ݟ?��i\u0011�\u0005�\u0018�T�sW�\r",
      "mǥP+�c4�;�/t��z��\u001a� 5Z@s�|{ܛ�ڙ\u001b\r",
      "yoĶ#J�\u0003��^��\u0013����\u0012C6�)�\u001bMvS.'�>%?�?����b\\��\f",
      "\n",
      "��\"g]�\u0011���\u0015�� �{\u0014��|fłb ��ۘ\n",
      "?=*;Y�\u0005=��ʗ\u0007�+��}$\u0016��q��͙a��Y�!��\u0018So$\n",
      "��Z\u0011�\u001bc\u0006���\u001c",
      "��U����(�Q۠��j�E\\1\u0019\u0015j\u0004b�j{�_&2@���T�P;1�\u0016��'��F��h������Y�\u0019��B �da�Wb�l�R��X��\u0015\u0005��X�8��\b&O�c<Sd\u0004.3��-����W��q\u0000jCH�lH`3�S���wm��\u001b>�r��z`�adSo���p��S�lb\b�4[ʩ��*�c���FZ�]H�\u001d",
      "�\u0006�wvN@�a]�pi2^�{��\u0004�\u0005URq[\u0017Q�\u0007=qY\t�k:�\n",
      "<�F��Pp09��Y|�\u000e��d\u0007�zf�|A��o\"���\u0000\f",
      "��Oƈ�����U\u000fZ��ۯҪ����;��~�\u0013�Uy\u0006\u0019~��yr9��2�����u0FF����^[�\u0019��K��T�\u0017�f�^U�\u001c",
      "Ī_�MvRV6[�\u0015����}?�Ʊ�PҀk[�G> �?�5�9ă\u0006�ZGE?�#Ql�B�}*\r",
      "����6���_Z�����3],�R���4\u0019�\u001b{�\u0012ay�%�������R�\r",
      "\u0016�a�I_����}�)$V���]�F\f",
      "p����q[��\bY��4��qҳ�1�x�c���d\u0000\u001e",
      "~�V}=�7F��z����.&A/ u=�a��2$\u000b",
      "\u0015�p;�YNv8�4�\u000b",
      "-\u0017Q���n�z�l\u000f\u0002�n���\u001f½U�R�\u0001m\u0004q���4z��&Ac�\u0000�]f��*�j\u001e",
      "\u001d",
      "�l���ȸ�H��`g'z\u0015>��֯.�o�%�|�\u0012\u0005y��t)�з�W'=+Zx��駈�z��� �u���l=�\u0006bI\u0004��*$�\u0000ZO?�v+=Q�s+]\u0016e�I\u0010��Ζ6��Ү\u0019O���jy`\u0012FH\u0015D=L�rT�3\u001a�#+!\\pi^#�\u0000q@%b8!3\u001e",
      "j�\u00111�i����[��P˴����@=����ڳ�r\u0001�W�f�D�\u0000*ҭ�<<N悌*��֎H�Ĉ��oAXZ� ��]t��x\u0018��\f",
      "A�\u0017�U�\u0019��\u0003l�\u001e",
      "�W5�-��\u001f\t��\u0004�\"��)��\r",
      "��_�@�\u0005|��\"�n���ה�G�\u0000�L����_�Y�'���\u0000 ��5�M]\u0016��?��׮?�5�9� �lx������Ź\u001f8�N�:��+����c�\n",
      "֊�n\u0013i�+l�EjD�@5�vg���+�$A:V���7��9�Z^����G\u0011���O��m�D��M͏��\u0017;�p⫨E�\u0015ďn�\u0004 B\u0007 \n",
      "�Ե�a��\u0002�\u0003�k����v�)��»���\"�\u0019\u0000��[��Ng=\u0014��&�0�=\u0005h�^_.\u0011�'ެ��rH%\n",
      "m�篥t6Z\u001a�M\u001a\u0013��ni�T�f���\u0017�\u0003!�WCkk%�\u0003�\u000e+W�\u0002;E\u0006c�v\"���`\b��\b�\\s����G/yf�F$Y���qT.e��\u0002+�$��zWkmb�ym\u000f�\u000fz�\u001f��9ٍ�\u0006;�\u0014��=\u000e�T��Z��k}I�Km�\f",
      "�8���N��\u001b�)*\u001c",
      "\u0010E}Q�|)��y#�lr�\u000e�A�U|[�\u001f��\u001b��\u0000M�G��'��Qˑ�Ewa���3��Pvgʌ���܆M���l��5),�m�\u0013��\u0019Xr(R���\u0014����;��u\u0018���� \u001d",
      "3�i�\"��zqM�U:U-U����\u001bGJ����\u001e",
      "%d�Z˔m�\u0014ނ�ʷ���h6�Z�AU�l�\u0015�g�<*���夫�z\u001a�D�\u0000\u0005j�B���\u0004\"dS޻h�L�+��Q#\u0004}�q�T�{��\u001f�h=\u0005T*3ҹ��])YX�j�\u001a��m��ң��I<����D���\u0007��^S�)s�J�5�\u001a��\u0016漯�5�m&A��5�\u0005d\u0007�~#?�?��Y\u0017\u0018�\u0007z��\u0013\u0003���5��\f",
      "���i�t74la߷��4L��y�[I\u001c",
      "p��wj���f�u���f�[��M\u001e",
      "����D�\u001b�\u0006�<�k���~өGk\u0001\u0018ݒƬ[@4�\u0001\u0012`\u0012\u0000ⴴ\u0019#�U*��s��jϚ�Q�w:9��k\u001aZG�r>��V,�\u000e\u0019\u0003H��n���Z��,��޺)���Y\b\u0000��:��]�F�\u0014�s���)���ۻ�U���J�6V^�\u0015�_fSl\t\u0000�*ž���\u0011��s{M\u000e�T�+���sn\u0017'�Z���H�����5�PxFK����\u001d",
      "�HxE#Q�I�I�\u000eTy>����[Յu�\u001f�yRe��@�v���É\u000b",
      "\u0003��nA�,j\u0013\u0018�5�RNh�5\u0013��CX�$�>�\b����R��@�����:7��s��|�r\u0000�p~)���\u0019\"�2\u0010|��*��3G\u0015%s���s����%׬#Q\u001c",
      "˺M�����$���+�6\u0010�\u001e",
      "\f",
      "����\\Ą��\u0015��$���\u001d",
      "�\b܊��\r",
      "^h+�\u0012��ZH\f",
      "m���)\u0004^��e\u0007�2ï�:��*���Sr\u001bu\u0005pH��6\u0005���P�<F�Cz�0�h{\u00020�8�`\u001c",
      "Uku�\u0002j���dt�1�6�Յo�\u001e",
      "\r",
      "o��̀�0;W=��FPO\u0015�ۺ� \u001fJ��E\u0012�\u00185�P�\u0011����D�D\u000b",
      "��\u0015W\u001e",
      "�`.�OS��Kf����O���(\u0004\u001e",
      "*��Zp{��׭|�R�M`b\u0006�\u001c",
      "W�|B�K���^����5y'�?�\u0006I��F�V\u0013z��-lg\\��k:�\u0002���\u001d",
      "h��a�uP�\u001f8\u0015�\r",
      "��?\u001a.[�s]��+\u0005�іy\u0000f_�Oj�t�c)L�\f",
      "�q�YYn�#\u0007\u0002���c\u0014�OC���X�-��l0\u001c",
      "U}2_+S�\u0013�*�'ڙ�]�m�\u0019$!��:]ɳ��J�\u0018m\u0015\u0011Z\\�Oi�r�������\n",
      "�I\u0004{��;�����ޖ�G��$We��YB����#v{�>\u0003Ieظۚ�tۤ�5iN�A�Y�F���\\Զc\u0017{d\u0005�5ȡ��z3��t��\r",
      "�OoJ�Q\u000f\u0019@k\u0002Ј�\u0011�\u000f8�;}�܂\u0005e(\n",
      ",�c��>A�ڒy\u0015e\u0007�\u0014�\n",
      ">c�Q<B\\�q\\�i�7#���\u0017\u0000�\\���Y\u0018\u00023����i�8\u0019���Z�\u0006M��\u0004\u001e",
      "s^UX��L�?\u0015YF��D�\u000b",
      "�A>��\u001b�-�v�!Ԁ�d5�\u0017��|���\u001f1H��|;�۳w�^\u0014�-!���~\u001d",
      "K����\u0018�`�*%���\t�C#1\u00043\u0002=�(���k�Nǹf{t����銿i1g�Kz���\b���~nj�c%GoJп\u0018\\U8F\u00193XW�x���f��\u001a.�+\u0003]\f",
      "\\s]D�\u001f��\u0007j�5�A\u0019\u00185���\u0019�5?�1�-\u0007�*�<��ŭ9�D�X�juS�~�H�T\f",
      "�j̇���Z����Mar��\u0010����\u001a��i�\u0003W��Do���}�z���\u0012vh�\u000b",
      "]8צ?�U\t\u000e��kC[\u0019�f?�U)T\t\u0001'\u0015�U����ѹm��\u0011�cȮ�ᵳ�z�� f��\u0015��:Ȫ��<W��'��O���\u0015��m}��+i�cݪ��cNw�n?��2��[\u0016����\u0001��㚽���%�^\\E�O�r��N�S,�\u00078\u0019�8�t�z������\u000f���H����LN�N\u0007�q\u001e",
      "\u0015����_Z���\u0019\u0001f�񐧥yu-�f{\u0014SP:\u001b;�Yp��ݏjױմd\u0005e�A7ּ\u000b",
      "��\u0010/R�M'IR�/�\u001d",
      "�����\u0014�o��(��:���Q�����:w�/}���Wӭ�F7�Ǟ��������\u0017d�0>��^�_«�2�\u0000�],r�2��\u0006G�\u0015�b�/��!�7�1��+\u0007I�S>�mE\b�0ԃU@�����^w�+���-\u001a�\"f\u001c",
      "�r_\u0013<S��W��N�F�\u0000�hI�\u0015��\u0014�Y�c�5/\u0018�և\u0013�$gК��?\u0017�WQ���\u000e�A�|�\u001f���n�ƹ�nKd�\u001b\f",
      "\u000f�WY}��\tto�h� k�\u001a�\u0018?�a�µ\u001b�\u0014�v\"�ǭI�h���\u0010�b#\"�$��k����gs������\u001f���1�șL�^k�\u0007\u00067\u0000�k��b�\u0013��w\u0000A\\\u0003�a\u001biȧ9\u0003\u0002�s�^���`�yG�5i\u001b�\u001f7J�\n",
      "n9<ՙ%DL)���\f",
      "�\\\u0005<Vb\u0012dJ��>���ƣr{\u001a箶<J��gFT\u001bE�\\W)�(�+��B-�ҹ=zc�W�E5L���V\u001aT}�}*�A��>ke�Um�����O���\"�U�\u0018\u0006�=V����[����\u0000�j��%�}\r",
      "{\u0016������_\u0011�\u001f7�ׯKc9���\u0000����U)�g\u0015s[�Z���#� 5ksѣ�J�JD��Cf���\u0015��X�\r",
      "�w(?�xZ�,'\u001e",
      "��?\u0005�B,<c\u0019f��\u0005�בNgѵt}G��\u001bO\u000e$/n\u0004�p8�'�i�H�a�n\u0005{���Alf�?r�\u001c",
      "��r\u001a�V2\u0018`�Q�8$\n",
      "�R�<J���_\u000b",
      "�0���b�U��Djz\u001c",
      "aH�&��ۅ+�Һ�\n",
      "膇\u001c",
      "��pOWs�\u001a+\u001c",
      "վ���\u0013�\f",
      "\u000b",
      "qr�z�/��{^�he��Nq�k\u0018\u0018�Ew��\u0005�\"\u00032pH\u0015v\u0019���TG��\u0015j�J̨��\n",
      "� ���S�[�f���X�rqӭu>\u0016��֝f�t��\u0013e7�W�=���݅V<�M�#6\u0016!\u0000�b��&އB����e���p\u0002��/��\b��\u0006����aNH��*_���RD'\u001b�v��\u000b",
      "}^8Km\u0012��k���j\"ڶ���D�5�����4���\u0007\u0012��ְ�_��φ���M��[X�&���Z�\u0011�S����jncnw-hh�Ov�Z@S��)W��\u001b\u0013\u001a:����q�����h����\u0003_)=�O\bq_^����?ì�6I�?\u0003_\"i�x�3ڽ\\��,��#�aP\u000fZ�G暷w ��w��d\b��\"�-m6\u000f���Ğg�S�_�`U\u001d",
      "�#n�\u0001\u0019��\u0010j�\u001d",
      "\u0013�ZZ��#�zη���a[����#6�f\u0015�g^D�+�\u000f��\\ִs0�׭K�G���2\"�?ѓo�R��rS���J���{������U��j��i:WΥ�\u001715�>C}+�~#\u000f����5�:��{��x��a�\u0000\u0012�~���IX�5�ϑu�\u000e�7�ꨏ��w5gY\u0019֧�]՝�N!N:Ӆ��F���<��\u0004>P%�\u0018���r\r",
      "\u0007]�����(/���*�Q��v��\u0015�=Ĉ˹�6k�x{���9yU6~��L�Ɓ�<S���h0�zu�\\����W0#\u0019\u000263�T_\u0003�Co�|0��#�LШ�\u0013��S�q�_\u0010\\�\u00189'%�*�jA�C�ϝFEۈd�\u0006\u0007\u0015gH�x\u0018��R�|��J���l���-���jZ�9p�����A�[���dw5�h�\u0015�����u�m��\u0011������vo\u0017���WV�2�\u00068�7�O���h���5_Uծ�<��HmĎ¹�N�i\u001a���&���\u0000\f",
      "�ѥc��#��%��U\u0002坎~Z��\u0019�D-��u\u0001\u0007�5��\u0000��,�^(\"x\r",
      "�����5/�\u0016��Cm\u0004FRd\u0018�a����Ms�1U#6z-��s�k\u0013��0囵X��l,ayb�[ּ�}^�O�\t$F�8�������Βe\u001b��y�p�gb��Oڊ�M�+�dq�I����Ʒh\u0010���_M�ӗ%�\u0005bN|�񯝮\"\u0013�FW�+�ˣh��{\u0019�\u000b",
      "�3��M\u0000��R�\u00148=���\u0003��alLc$�� ��r܊��\u00158�R�\bHI5�+���\u00056��CT���x��`\u0018b�ꤖ�q�\u0015�j�c­�Fi��\n",
      "�5�A�WBFQG�s��G�\u0015��o�\u001f9Y~�l��\u0017�P\u000e�4��\u0004ϥW�q��v�[��N�UgZ��#��.0}��[��Z�\u0005�}+ž#2��������_\u0010���x�^\u0015�OW��4�~�2F�\u001c",
      "\u00065�я23�F|��H\u0017[�pp����\t��׊��j\tu�L��X�\u0015��'\u0007�vQ��jE\\C�9\u0011\r",
      "��\u001f\u0003\f",
      "+;� �nMk��\u001c",
      "0&��%)�\u0015�sY�\u001e",
      "G�w�g��\u0017����|4Ļt��\u0000�'�k�|%�\\M{+�J�I�\u0004�|���6��Z\\���\u001fZ�K���D`|�\u000f\u001e",
      "���)�������q��\u0011�&�·�ؘFӞ+ʡ����\u0011e8V�#^����&��Fs^T�cڥ+�V֬e\f",
      "�z��oR��Q~�\u001d",
      "��l�x��A<���\u001c",
      "�i��� i���p8\u0015�]�:贈�����yd���sZ��t*��<\t\"��\f",
      ":VD>\"�kL!H�a���%��\u001d",
      "\u000fH�\u0017���dO�-]\u0011dԓ�ix��\u000e��\u0015�\u0010�.\u0007%����|\r",
      "a�[+ě�Q�ڹ;\u001f�K�-3Gqt�\u001c",
      "r��~�㏅��\r",
      "���\bcصq�\\�6\u00158Y���\u0004�xX����ұ�ˍ�.���w}i���\t�d���a'F\u00075z�KK\r",
      "9��\u001d",
      "���9;ӱ�s�\u001f9~�\u0017�V�i\u0001|�$��ׁ��\u0015@���?Ƌ���Y!ޖ�<\u001e",
      "�����k\u0017\u0006?ƽ�\u0004\u001a��\u0002�(J͛�J\u0017�\u001d",
      "��ڔv��ψa����\u001b�\u000f*�\u001b\u001d",
      "���n�4.�LJ@�VkL\\��_�#�x!���*�\\�\u0003ҕ�\u001aM�3?Qc��WA�>��=�\b\u0006J�W&#��U��/\u0003�Z�֛���[3\u001d",
      "�1�X\u001a��\u0000�G^�\u001f�\u001f;[��O�B3�U`�\u001d",
      "*̿�GҠ\n",
      "qҹ\u001e",
      "�m3�\u0006C�U)T\u0016\r",
      "���#\u001f֓Y�-tk&��%\u0016�(�9�^���V���/�*�ĕk�<��^]:.L�Q���6|r�|\u000b",
      "\u0014���\u000b",
      "�Q�\u001e",
      "Z��5�o�<e�x�P�k���\u0016(\u000f\u0002�jz���j\u0012�����!�3\u001c",
      "�Im��v�?Z�iC٣�SrЦ\u0011\u0003��}��%jY�$���*\r",
      "�=k�,�an���.x\u0014����\u001e",
      "�}j��ԩpr\u000f�r+׾\r",
      "���cX���>���u��~խ��t�Z�S��\u00198#���+ŝ4d��ϰ/�MC@��\u0012��t>\f",
      "�\f",
      "�\u0011\u0012r1\\��u�u�.d`�[�A\u0007�_�{v\r",
      "��R\r",
      "�\u0018�^%D��\u0010�{\u001e",
      "ǥj14js�v����\u001b���2>n���,�}ʇ�&x�\u001bX%���N��1Ҹެ�!��o\u0010�Q~�\u0011����Tמ���O�fe��3Вk�5I.e�1J� pV�Yu;�0�\u001bbJ���;\u001d",
      ")#���;j$yaӤ�'\u0000���ֿ�~\tX�S\to\u0011Ďr\u0006O\u0015~/\u0010����&�\"v\"��\u000e�jWn�i\u0004���\\؜G��o\b$��\u000b",
      "�i>]�Q�\u0003����~7�C����`FD�FkCŷ�H�\u0004R���\f",
      "����h?\u001f2��qK�\u001b�\u0010\u001f�\\8jn��,EUI\\��\u0011�g�Z��윗c�YMj��\u001d",
      "�ُ��}j�9\\��ҏ%;\u001f\u001d",
      "V\\�Q��\u0003ңX�?+U� /@j\u0005|�AE�G5H��oy$\u0007\u0004�W��f\u0003=k-r\u0006H�>#��ˏJRZ\u001d",
      "��a�,j8#��\u000b",
      "\u0015 U�r��j�\t�8\u001d",
      "���6�gJ�{B��o+�{Rɹ�5�;\f",
      "\u0015�\u0000V\u000e�\u0001�A^�-)\u001c",
      "5����q\u0012�j�}Op߻U�j��޹\u001e",
      "�e3�~)~К�\u0000Ļ�\n",
      "3Y�w\n",
      "p+̕�'�\u0012\f",
      "�sX~|���\u001c",
      "�N\t���SQ<nf��\b�9��s��ҪB�\u001d",
      "j�|��֢ �.j���j�h�i\u001a�\\\u0011M;\f",
      "�\u0019�E]}=\u0003s��RZȿr�R�L�4^pȬ�ܨ�ݫU��;�Q��^\u0018s�;�����tz��_\u0017��7�\u0014�D9�Q��Ɇ���>�v�\u0015��\u0000�<Q'�<Kg�F��'\u001e",
      "r��z�\u0003�\u000b",
      "�_\u000fX�����:M�bi ��+���+:�~h�\u001d",
      "8\\C��#j\u000f\u0010E��G\u0014�\u0004�c5��x�tv[{�9�\t�=�֡e�Z�#\u0006�\u001d",
      "b�\u0019���}6�Y�6��9���^\u0004����>�5\u0013WL�=\u0016\r",
      "?S�8pž�>���\u001f��f1�~\u0015�f��\u001d",
      "W��&�w2�\u000eU����\u0000��\u0014�$��~�\u001e",
      "�OcEVǰ���&#�Q�U����\u0006�pA^\u001f'��;C���݀��O�\u001c",
      "ڬ\\�\u0000��g%���FR�N�^1���_\u0019Cc\u0015��҃\u001c",
      "\n",
      "Bzf�\u0006�/��<G�{�F��\u0007r@>���\u0018�#���Ӧ�.m\u0010��zג�\u001apu&>q�^�\u0002�����ck�Uʋ67\u0006H\u0015�Bحe|�+��f��~6�Em&c\u0015�KTx�vd��%WO�j��;i\u0004\u0018�lh۸�p\u0010�qK� v���\u0000�E>4�\u0016hz�\u000b",
      "V[�_3+QȾL�P!�T�K�%oJ���_)jg�>���u�V����}�c�˾�)�݅�Ϛ�-�}����5n�s\u0018>�[eq=�J�>�>��6��^�&3^�)�BqW�<\n",
      "��-Y���欆��\u001c",
      "g8�*3�H\n",
      "�ϭ2�(B2G\u0014�M�\"�i�*�-\"\u0007�H��g�i?)�6�\r",
      "����Zq�2�{�pq9��1Ȯ�W�������-������&�E��2r\n",
      "��>���z�����u?\u0006|}7�_��\u001e",
      "���V�\n",
      "��̽k��T�g$�Ӻ?A�*��\u0010\u001b�u�\b�!�@L��q��9�\u001b���|3q��V�\u0004�q�8ƿF|'m���Ú~�bV[K�VMÐ29��\u0015|\u0018�գ���/��\r",
      "�*�������8�EY��\u001a��\r",
      "� \\»O\u001e",
      "gbk�Ԥғ*��8\n",
      "z�Ҿ����0Z��\\��iV��w��R������_��+���c�9�pf�~cC�\u001c",
      "W�R\u0012��\u0011�\u001c",
      "Cg���\r",
      "|G��Sj\u0016Z\u0014�d�\u000b",
      "�dR\u0006+��\"�\u001a�2ZO\u0017�a��\u0007C�q_�:Kx�\u000f����c�N��c-�\u0019L�+�����M��Rַ\u0011\u0018�)J�\u0018`�<�ҌjngR��>zT0䑻w$��\u0014�*\u0016\\{�Ӛ0c\u0003�Qh\bb�q]*��G6��>�#H��cV��c��Ԯ��DC�5�a'�+��C%��9\u0000�ws\u0014L���>R��o�W9�3!c5��L֤��1�\u0015��G��zV���q�DJ�4��\u0011�AB���rMk(���\u0001�#���] �Zb�Bt�ީ���}k&��\u000e�D�M�\u0002�\r",
      "�-�<b�\u001d",
      "+�{��2Q75e\u0007\u0019�k69���v�jt������\\�ˍ�Z�7\t�z�E��j�/�\u001e",
      "x\u0014����m(p*�L����D~S��i�M�z�\r",
      "\u001aD�\u0013\u0002�o�9\b9�?\u0002��\u001e",
      "E.I�ڟ�Mlc��\t�5\u0014�!'��5\f",
      "�F�r�ۈ���<d\u001aȺ�<��01��&R?Q�\u0000��\u001a��\u001e",
      "\u000e��f�t^�Ø7c\">8\u001e",
      "����(|��\u0007��\u0000�_�߳?ŋτ\u00164]r)\n",
      "Z�ʗ\u0011�����W퍇�-�K�i�\u001a|�*��$�\u0019�\u0019�]pihrI7-\u000f�?mό�x��\u0016^\u0015�޶6o���n��q����\u001d",
      "/My�#��=��\u0000;W\u001e",
      "����c�8G�\u000b",
      "ImOJ���a����'�~\u000b",
      "�C·��3��P,b&a����T�ǣI��O��d_���\u0014���T7r�h����见�5s�\n",
      "3�[]�V�g�ß��ך�e�[{ߊ��7\u000f\u0011��<\u0017��\f",
      "H�O���wp�+�-dW�\u000b",
      "I\f",
      "�Xr�\u0007�k��+lUF~y�\u00022:�\"�r�\u0003\u001d",
      "}iB�A�r��ӟ�QMFҹ7�9��\u001b|�A�\u001e",
      "��h$��[\"���$g5GaW�5�\u0013)h\\��\u0001Pߒ\u0013\u001d",
      "�hz��P�y��R؋N�P㊰\u001fsc5^ԏ(��C��lg�J�\u000b",
      "B/���\f",
      "1Җ�\u0001lԋ&TSo\u001b�\u0018���,�\u0018H\u0012\u0001�\f",
      "�\u000b",
      "�3v1�ոX\u0019@����/095�غ\u001a.\\\u0013�ry5\u0016)�>�Px\"�/\u001d",
      "+�[��2�D���=�#�x�*�r\u0018��n�\u000f+�{׬x\u0002G1�*��o\\�B�FXm�U�p�F�\b4��8\u000e\t\u0002����񶚒�����&NA�j�b�HXr1R�U\u0015�!rq�Y���GZ����1\u0018\u0015N�R�*�0+Tn0\b��H��|N_�Gwn\b�:��>\u00174�n\\�����M\\̍��3�篥~��:�/��>\u001f]�f�]����0�yh��\u0000��W��\r",
      "�9U�E{��w�jO��\u0019t��&�\u001b�\u0016�*�\n",
      "��r!U}Q\t[s�~kQqm��+����οۋ�zxwU\u0013鱺�u�J\u000f�ȯ��>h���w�� rGpFq��Ͽ�m�?\u000e5�k�C;B�\n",
      "���ں��Д���G��Ǥ|@�e\u000e��ί#1�+�o��1u�\\\u0003\f",
      "$�ݟ\\�|{�+h�H��b�ȽI���\u001c",
      "��+�u����8n���e��\u001d",
      "N+�\r",
      "��D�ڹ�S�P��\u0000�<�֍ܐ(�~�n8iJ�9��[\"�WR�\";\u0010N�\u001aϸ�q�ԕ7!\u0015�2`�5�d�J�r\n",
      "晨��}���j}��\u0010�3M�5��vrb2*�K�Զ�(��Uid)&1ZCc&�͘_p\u0002��\u0000�APY�@4�ټ�\u0003\u001d",
      "*d�M28�\u0012\u0013T�]��j��\u0018���Ohd\u000b",
      "/9\u001d",
      "�\u001d",
      "�4���ds�\u0019�\u0003�[��R\u0015�9�\u0006���h̼�e��r�y�яl\bNj�-�SJ�oֽc�\u0011�s�H֍��c��\u0000�Ү�ޠ\n",
      "+t��\u0000,���\u001c",
      "����Pmd$\u0002q�X�lD���\u0000j�HRit��e�j\u0016?!�ȉ\u001a��\"����\u00198����\u001fZ�.a\u0015\u0005���Z5����������\u0000ՊH($�h�\u0012)l��dY<�_�Xvn�;��-U_��?Z\t���\u000f�k�Z?��\u0005�����/��A9�;�q�b�/۸Ao���\u000f����\u0000w�׎�\u0000�-���\u001e",
      "3��\u0014YA\u000b",
      "�\u0007Ƚ���\u0000o�\u0005hK�&a���kh�Aj|[k\u0004F��m\u001fb��J�\u0005<S�x��r�b��Y���*�1�\u0001��4$_��Qp6�p1��W[�&i\u0006��A�7�m\u001f1d�<��+\u0014ڨz\u000f�g��\u00187�\t�;3P\u0001�V����\u001a�\u001c",
      "\u0001x�\u000fƢQ�]]es�\u001b\u0011��T��\u0006\u001f)����(�f�\r",
      "��������������\u001fҭ/��Z���c�ysm��ׇ\u0013������F~f?Zp��{��M�\n",
      "Y��14�\u001f�j;���\"�Mm\t��v^kH2�{j��\u0006,q�G���5����^��^�\u0004d\f",
      "\u0012X�U2@'�5���/��S=MpMksօ+�\u0019��)\n"
     ]
    }
   ],
   "source": [
    "val path = \"/tool/hadoop_practice/data/lfw/*\"\n",
    "val rdd = sc.wholeTextFiles(path)\n",
    "val first = rdd.first\n",
    "println(first)"
   ]
  },
  {
   "cell_type": "code",
   "execution_count": 3,
   "metadata": {
    "collapsed": false
   },
   "outputs": [
    {
     "name": "stdout",
     "output_type": "stream",
     "text": [
      "/tool/hadoop_practice/data/lfw/Alexander_Rumyantsev/Alexander_Rumyantsev_0002.jpg\n",
      "1059                                                                            \n"
     ]
    }
   ],
   "source": [
    "val files = rdd.map { case (fileName, content) => fileName.replace(\"file:\", \"\") }\n",
    "println(files.first)\n",
    "// file:/PATH/lfw/Aaron_Eckhart/Aaron_Eckhart_0001.jpg\n",
    "println(files.count)"
   ]
  },
  {
   "cell_type": "code",
   "execution_count": 4,
   "metadata": {
    "collapsed": true
   },
   "outputs": [],
   "source": [
    "// load an image from a file\n",
    "import java.awt.image.BufferedImage\n",
    "def loadImageFromFile(path: String): BufferedImage = {\n",
    " import javax.imageio.ImageIO\n",
    " import java.io.File\n",
    " ImageIO.read(new File(path))\n",
    "}"
   ]
  },
  {
   "cell_type": "code",
   "execution_count": 5,
   "metadata": {
    "collapsed": true
   },
   "outputs": [],
   "source": [
    "val aePath = \"/tool/hadoop_practice/data/lfw/Aaron_Eckhart/Aaron_Eckhart_0001.jpg\"\n",
    "val aeImage = loadImageFromFile(aePath)"
   ]
  },
  {
   "cell_type": "code",
   "execution_count": 6,
   "metadata": {
    "collapsed": true
   },
   "outputs": [],
   "source": [
    "// convert an image to grayscale, and scale it to new width and height\n",
    "def processImage(image: BufferedImage, width: Int, height: Int): BufferedImage = {\n",
    " val bwImage = new BufferedImage(width, height, BufferedImage.TYPE_BYTE_GRAY)\n",
    " val g = bwImage.getGraphics()\n",
    " g.drawImage(image, 0, 0, width, height, null)\n",
    " g.dispose()\n",
    " bwImage\n",
    "}"
   ]
  },
  {
   "cell_type": "code",
   "execution_count": 7,
   "metadata": {
    "collapsed": true
   },
   "outputs": [],
   "source": [
    "val grayImage = processImage(aeImage, 100, 100)"
   ]
  },
  {
   "cell_type": "code",
   "execution_count": 8,
   "metadata": {
    "collapsed": false
   },
   "outputs": [
    {
     "data": {
      "text/plain": [
       "true"
      ]
     },
     "execution_count": 8,
     "metadata": {},
     "output_type": "execute_result"
    }
   ],
   "source": [
    "import javax.imageio.ImageIO\n",
    "import java.io.File\n",
    "ImageIO.write(grayImage, \"jpg\", new File(\"/tmp/aeGray.jpg\"))"
   ]
  },
  {
   "cell_type": "code",
   "execution_count": 9,
   "metadata": {
    "collapsed": true
   },
   "outputs": [],
   "source": [
    "// extract the raw pixels from the image as a Double array\n",
    "def getPixelsFromImage(image: BufferedImage): Array[Double] = {\n",
    " val width = image.getWidth\n",
    " val height = image.getHeight\n",
    " val pixels = Array.ofDim[Double](width * height)\n",
    " image.getData.getPixels(0, 0, width, height, pixels)\n",
    " // pixels.map(p => p / 255.0)   // optionally scale to [0, 1] domain\n",
    "}\n",
    "\n",
    "// put all the functions together\n",
    "def extractPixels(path: String, width: Int, height: Int): Array[Double] = {\n",
    " val raw = loadImageFromFile(path)\n",
    " val processed = processImage(raw, width, height)\n",
    " getPixelsFromImage(processed)\n",
    "}"
   ]
  },
  {
   "cell_type": "code",
   "execution_count": 10,
   "metadata": {
    "collapsed": false
   },
   "outputs": [
    {
     "name": "stdout",
     "output_type": "stream",
     "text": [
      "178.0,177.0,176.0,172.0,170.0,164.0,90.0,47.0,45.0,43.0, ...\n",
      "0.0,0.0,0.0,0.0,0.0,0.0,0.0,0.0,0.0,0.0, ...\n",
      "104.0,84.0,91.0,115.0,123.0,116.0,106.0,96.0,95.0,113.0, ...\n",
      "22.0,22.0,20.0,20.0,20.0,20.0,21.0,20.0,21.0,21.0, ...\n",
      "0.0,0.0,0.0,0.0,0.0,0.0,0.0,0.0,0.0,0.0, ...\n",
      "43.0,48.0,46.0,47.0,48.0,47.0,44.0,44.0,46.0,46.0, ...\n",
      "228.0,222.0,224.0,232.0,204.0,206.0,212.0,225.0,149.0,188.0, ...\n",
      "62.0,91.0,90.0,86.0,87.0,88.0,90.0,92.0,94.0,94.0, ...\n",
      "0.0,0.0,0.0,0.0,0.0,0.0,0.0,0.0,0.0,0.0, ...\n",
      "198.0,191.0,194.0,192.0,112.0,46.0,42.0,46.0,62.0,71.0, ...\n"
     ]
    }
   ],
   "source": [
    "val pixels = files.map(f => extractPixels(f, 50, 50))\n",
    "println(pixels.take(10).map(_.take(10).mkString(\"\", \",\", \", ...\")).mkString(\"\\n\"))"
   ]
  },
  {
   "cell_type": "code",
   "execution_count": 11,
   "metadata": {
    "collapsed": false
   },
   "outputs": [
    {
     "data": {
      "text/plain": [
       "image-vectors MapPartitionsRDD[4] at map at <console>:47"
      ]
     },
     "execution_count": 11,
     "metadata": {},
     "output_type": "execute_result"
    }
   ],
   "source": [
    "// create vectors\n",
    "import org.apache.spark.mllib.linalg.Vectors\n",
    "val vectors = pixels.map(p => Vectors.dense(p))\n",
    "// the setName method createa a human-readable name that is displayed in the Spark Web UI\n",
    "vectors.setName(\"image-vectors\")\n",
    "// remember to cache the vectors to speed up computation\n",
    "vectors.cache"
   ]
  },
  {
   "cell_type": "code",
   "execution_count": 15,
   "metadata": {
    "collapsed": false
   },
   "outputs": [
    {
     "data": {
      "text/plain": [
       "Name: java.lang.OutOfMemoryError\n",
       "Message: Java heap space\n",
       "StackTrace:   at breeze.linalg.svd$.breeze$linalg$svd$$doSVD_Double(svd.scala:93)\n",
       "  at breeze.linalg.svd$Svd_DM_Impl$.apply(svd.scala:40)\n",
       "  at breeze.linalg.svd$Svd_DM_Impl$.apply(svd.scala:39)\n",
       "  at breeze.generic.UFunc$class.apply(UFunc.scala:48)\n",
       "  at breeze.linalg.svd$.apply(svd.scala:23)\n",
       "  at org.apache.spark.mllib.linalg.distributed.RowMatrix.computePrincipalComponentsAndExplainedVariance(RowMatrix.scala:389)\n",
       "  at org.apache.spark.mllib.linalg.distributed.RowMatrix.computePrincipalComponents(RowMatrix.scala:411)"
      ]
     },
     "execution_count": 15,
     "metadata": {},
     "output_type": "execute_result"
    }
   ],
   "source": [
    "// normalize the vectors by subtracting the column means\n",
    "import org.apache.spark.mllib.feature.StandardScaler\n",
    "val scaler = new StandardScaler(withMean = true, withStd = false).fit(vectors)\n",
    "val scaledVectors = vectors.map(v => scaler.transform(v))\n",
    "// create distributed RowMatrix from vectors, and train PCA on it\n",
    "import org.apache.spark.mllib.linalg.Matrix\n",
    "import org.apache.spark.mllib.linalg.distributed.RowMatrix\n",
    "val matrix = new RowMatrix(scaledVectors)\n",
    "val K = 10\n",
    "val pc = matrix.computePrincipalComponents(K)\n"
   ]
  },
  {
   "cell_type": "code",
   "execution_count": null,
   "metadata": {
    "collapsed": true
   },
   "outputs": [],
   "source": []
  },
  {
   "cell_type": "code",
   "execution_count": 13,
   "metadata": {
    "collapsed": false
   },
   "outputs": [
    {
     "data": {
      "text/plain": [
       "Name: Unknown Error\n",
       "Message: <console>:33: error: not found: value pc\n",
       "       val rows = pc.numRows\n",
       "                  ^\n",
       "StackTrace: "
      ]
     },
     "execution_count": 13,
     "metadata": {},
     "output_type": "execute_result"
    }
   ],
   "source": [
    "// use Breeze to save the principal components as a CSV file\n",
    "val rows = pc.numRows\n",
    "val cols = pc.numCols\n",
    "println(rows, cols)"
   ]
  },
  {
   "cell_type": "code",
   "execution_count": 14,
   "metadata": {
    "collapsed": false
   },
   "outputs": [
    {
     "data": {
      "text/plain": [
       "Name: Unknown Error\n",
       "Message: <console>:33: error: not found: value rows\n",
       "       val pcBreeze = new DenseMatrix(rows, cols, pc.toArray)\n",
       "                                      ^\n",
       "<console>:33: error: not found: value cols\n",
       "       val pcBreeze = new DenseMatrix(rows, cols, pc.toArray)\n",
       "                                            ^\n",
       "<console>:33: error: not found: value pc\n",
       "       val pcBreeze = new DenseMatrix(rows, cols, pc.toArray)\n",
       "                                                  ^\n",
       "StackTrace: "
      ]
     },
     "execution_count": 14,
     "metadata": {},
     "output_type": "execute_result"
    }
   ],
   "source": [
    "import breeze.linalg.DenseMatrix\n",
    "val pcBreeze = new DenseMatrix(rows, cols, pc.toArray)\n",
    "import breeze.linalg.csvwrite\n",
    "import java.io.File\n",
    "csvwrite(new File(\"/tmp/pc.csv\"), pcBreeze)\n"
   ]
  },
  {
   "cell_type": "code",
   "execution_count": null,
   "metadata": {
    "collapsed": true
   },
   "outputs": [],
   "source": []
  },
  {
   "cell_type": "code",
   "execution_count": null,
   "metadata": {
    "collapsed": true
   },
   "outputs": [],
   "source": []
  }
 ],
 "metadata": {
  "kernelspec": {
   "display_name": "Spark 1.5.1 (Scala 2.10.4)",
   "language": "",
   "name": "spark"
  },
  "language_info": {
   "codemirror_mode": "text/x-scala",
   "file_extension": ".scala",
   "mimetype": "text/x-scala",
   "name": "scala",
   "pygments_lexer": "scala",
   "version": "2.11.8"
  }
 },
 "nbformat": 4,
 "nbformat_minor": 2
}
